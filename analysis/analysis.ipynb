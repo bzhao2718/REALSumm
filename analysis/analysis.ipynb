{
 "cells": [
  {
   "cell_type": "code",
   "execution_count": 1,
   "metadata": {},
   "outputs": [],
   "source": [
    "%load_ext autoreload\n",
    "%autoreload 2\n",
    "\n",
    "%matplotlib inline\n",
    "\n",
    "from IPython.core.interactiveshell import InteractiveShell\n",
    "InteractiveShell.ast_node_interactivity = \"all\""
   ]
  },
  {
   "cell_type": "code",
   "execution_count": 2,
   "metadata": {},
   "outputs": [],
   "source": [
    "import itertools\n",
    "import numpy as np\n",
    "import utils\n",
    "\n",
    "from collections import defaultdict as ddict\n",
    "from sklearn.metrics import confusion_matrix, f1_score\n",
    "from matplotlib import pyplot as plt\n",
    "from random import choices"
   ]
  },
  {
   "cell_type": "code",
   "execution_count": 3,
   "metadata": {},
   "outputs": [],
   "source": [
    "sd_path = \"../scores_dicts/abs.pkl\"\n",
    "sd = utils.get_pickle(sd_path)"
   ]
  },
  {
   "cell_type": "markdown",
   "metadata": {},
   "source": [
    "# Data exploration"
   ]
  },
  {
   "cell_type": "code",
   "execution_count": 4,
   "metadata": {},
   "outputs": [
    {
     "data": {
      "text/plain": [
       "dict_keys([5912, 11343, 5626, 3172, 5025, 5257, 11049, 19, 10563, 11355, 6784, 8613, 5099, 1521, 5231, 4043, 11351, 10721, 10595, 3152, 7058, 4725, 2292, 9605, 1273, 9393, 4303, 10537, 8334, 1890, 9781, 6564, 5576, 9825, 9502, 6731, 5635, 9086, 9555, 10680, 5075, 9590, 10231, 6714, 5244, 3789, 3621, 11264, 5420, 7535, 10586, 1153, 6048, 8815, 5272, 1492, 10542, 4637, 307, 7584, 7823, 5243, 1573, 3583, 10325, 6094, 1944, 9709, 5524, 7910, 8565, 6329, 5334, 2736, 7626, 1017, 7174, 5357, 7397, 1173, 8997, 9325, 2748, 2065, 8054, 7547, 5476, 6976, 9221, 7770, 8001, 10368, 10824, 3906, 8306, 7670, 8312, 5558, 6774, 4315])"
      ]
     },
     "execution_count": 4,
     "metadata": {},
     "output_type": "execute_result"
    },
    {
     "data": {
      "text/plain": [
       "100"
      ]
     },
     "execution_count": 4,
     "metadata": {},
     "output_type": "execute_result"
    }
   ],
   "source": [
    "sd.keys()\n",
    "len(sd)"
   ]
  },
  {
   "cell_type": "code",
   "execution_count": 5,
   "metadata": {},
   "outputs": [
    {
     "data": {
      "text/plain": [
       "{'presumm_out_trans_abs.txt': {'system_summary': '<t> drivers pulled over on interstate 20 in albilene , texas , got out of their cars and walked toward oncoming traffic to pick up the cash </t>  <t> a video posted on facebook shows motorists grabbing the notes in between stopped vehicles , while others were forced to slow down and veer out of the way </t>  <t> police have warned that if anyone is caught with cash that was inside the truck - they could land themselves behind bars </t>',\n",
       "  'scores': {'rouge_1_f_score': 0.5042,\n",
       "   'rouge_2_recall': 0.26087,\n",
       "   'rouge_l_recall': 0.55319,\n",
       "   'rouge_2_precision': 0.16901,\n",
       "   'rouge_2_f_score': 0.20513,\n",
       "   'rouge_1_precision': 0.41667,\n",
       "   'rouge_1_recall': 0.6383,\n",
       "   'rouge_l_precision': 0.36111,\n",
       "   'rouge_l_f_score': 0.43697,\n",
       "   'js-2': -0.5409531269947896,\n",
       "   'mover_score': 0.34723133690760255,\n",
       "   'bert_recall_score': 0.46336546540260315,\n",
       "   'bert_precision_score': 0.33870336413383484,\n",
       "   'bert_f_score': 0.4012831151485443,\n",
       "   'litepyramid_recall': 0.5555555555555556}},\n",
       " 'two_stage_rl_out.txt': {'system_summary': '<t> drivers pulled over on interstate 20 in albilene , texas , on friday . </t>  <t> got out of their cars and walked toward oncoming traffic to pick up the cash . </t>  <t> a video posted on facebook shows motorists desperately grabbing the notes in between stopped vehicles , while others were forced to slow down and veer out of the way . </t>  <t> weatherford police department said all of the lost money had been picked up by citizens . </t>',\n",
       "  'scores': {'rouge_1_f_score': 0.46551,\n",
       "   'rouge_2_recall': 0.23913,\n",
       "   'rouge_l_recall': 0.53191,\n",
       "   'rouge_2_precision': 0.16176,\n",
       "   'rouge_2_f_score': 0.19298,\n",
       "   'rouge_1_precision': 0.3913,\n",
       "   'rouge_1_recall': 0.57447,\n",
       "   'rouge_l_precision': 0.36232,\n",
       "   'rouge_l_f_score': 0.43103,\n",
       "   'js-2': -0.5422479887563197,\n",
       "   'mover_score': 0.3324989303031234,\n",
       "   'bert_recall_score': 0.4684308171272278,\n",
       "   'bert_precision_score': 0.341130793094635,\n",
       "   'bert_f_score': 0.4049934148788452,\n",
       "   'litepyramid_recall': 0.5555555555555556}},\n",
       " 'unilm_out_v2.txt': {'system_summary': \"<t> the passenger door of the brinks armored truck opened as it was moving . </t>  <t> a plastic bag with a ` substantial amount of money ' to be blown out . </t>  <t> drivers pulled over on interstate 20 in albilene , texas , to pick up the cash . </t>  <t> police have warned anyone caught with the money will be prosecuted . </t>\",\n",
       "  'scores': {'rouge_1_f_score': 0.63265,\n",
       "   'rouge_2_recall': 0.45652,\n",
       "   'rouge_l_recall': 0.61702,\n",
       "   'rouge_2_precision': 0.42,\n",
       "   'rouge_2_f_score': 0.4375,\n",
       "   'rouge_1_precision': 0.60784,\n",
       "   'rouge_1_recall': 0.65957,\n",
       "   'rouge_l_precision': 0.56863,\n",
       "   'rouge_l_f_score': 0.59184,\n",
       "   'js-2': -0.38614657906597705,\n",
       "   'mover_score': 0.4056663123802029,\n",
       "   'bert_recall_score': 0.37943941354751587,\n",
       "   'bert_precision_score': 0.3007485568523407,\n",
       "   'bert_f_score': 0.34087511897087097,\n",
       "   'litepyramid_recall': 0.7777777777777778}},\n",
       " 't5_out_large.txt': {'system_summary': \"<t> drivers pulled over on interstate 20 in albilene, texas, to pick up the cash . </t>  <t> brinks armored truck passenger door somehow opened as it moved . </t>  <t> plastic bag with 'substantial amount of money' blew out onto the road . </t>  <t> police have warned anyone caught with the money will be prosecuted . </t>\",\n",
       "  'scores': {'rouge_1_f_score': 0.65957,\n",
       "   'rouge_2_recall': 0.45652,\n",
       "   'rouge_l_recall': 0.6383,\n",
       "   'rouge_2_precision': 0.45652,\n",
       "   'rouge_2_f_score': 0.45652,\n",
       "   'rouge_1_precision': 0.65957,\n",
       "   'rouge_1_recall': 0.65957,\n",
       "   'rouge_l_precision': 0.6383,\n",
       "   'rouge_l_f_score': 0.6383,\n",
       "   'js-2': -0.38614657906597694,\n",
       "   'mover_score': 0.4341131275291257,\n",
       "   'bert_recall_score': 0.5144510269165039,\n",
       "   'bert_precision_score': 0.4877190589904785,\n",
       "   'bert_f_score': 0.5018633008003235,\n",
       "   'litepyramid_recall': 0.7777777777777778}},\n",
       " 'presumm_out_ext_abs.txt': {'system_summary': '<t> drivers pulled over on interstate 20 in albilebe , texas , on friday </t>  <t> they got out of their cars and walked toward oncoming traffic </t>  <t> a video posted on facebook shows motorists frantically grabbing the notes </t>  <t> others were forced to slow down and veer out of the way </t>  <t> police have warned anyone caught with the money will be prosecuted </t>',\n",
       "  'scores': {'rouge_1_f_score': 0.52427,\n",
       "   'rouge_2_recall': 0.30435,\n",
       "   'rouge_l_recall': 0.53191,\n",
       "   'rouge_2_precision': 0.25455,\n",
       "   'rouge_2_f_score': 0.27723,\n",
       "   'rouge_1_precision': 0.48214,\n",
       "   'rouge_1_recall': 0.57447,\n",
       "   'rouge_l_precision': 0.44643,\n",
       "   'rouge_l_f_score': 0.48544,\n",
       "   'js-2': -0.49819635595292816,\n",
       "   'mover_score': 0.37633925421994063,\n",
       "   'bert_recall_score': 0.46425190567970276,\n",
       "   'bert_precision_score': 0.376409113407135,\n",
       "   'bert_f_score': 0.42091432213783264,\n",
       "   'litepyramid_recall': 0.6666666666666666}},\n",
       " 'ptr_generator_out_pointer_gen_cov.txt': {'system_summary': \"<t> texas highway was thrown into chaos on friday when the door of brinks armored truck flew open , causing money to spill onto the road .the passenger door of the truck somehow opened as it was moving causing a plastic bag with a ' substantial amount of money ' to be blown out .police have warned that if anyone is caught with cash that was inside the truck - they could land themselves behind bars . </t>\",\n",
       "  'scores': {'rouge_1_f_score': 0.44068,\n",
       "   'rouge_2_recall': 0.19565,\n",
       "   'rouge_l_recall': 0.38298,\n",
       "   'rouge_2_precision': 0.12857,\n",
       "   'rouge_2_f_score': 0.15517,\n",
       "   'rouge_1_precision': 0.3662,\n",
       "   'rouge_1_recall': 0.55319,\n",
       "   'rouge_l_precision': 0.25352,\n",
       "   'rouge_l_f_score': 0.30508,\n",
       "   'js-2': -0.5662744453153545,\n",
       "   'mover_score': 0.2727001632622832,\n",
       "   'bert_recall_score': 0.3613400459289551,\n",
       "   'bert_precision_score': 0.30242887139320374,\n",
       "   'bert_f_score': 0.3328067660331726,\n",
       "   'litepyramid_recall': 0.4444444444444445}},\n",
       " 'neusumm_out.txt': {'system_summary': '<t> Drivers pulled over on Interstate 20 in Albilene , Texas , got out of their cars and walked toward oncoming traffic to pick up the cash . </t>  <t> A video posted on Facebook shows motorists frantically grabbing the notes in between stopped vehicles , while others were forced to slow down and veer out of the way . </t>  <t> Police have warned that if anyone is caught with cash that was inside the truck - they could land themselves behind bars . </t>',\n",
       "  'scores': {'rouge_1_f_score': 0.5,\n",
       "   'rouge_2_recall': 0.26087,\n",
       "   'rouge_l_recall': 0.55319,\n",
       "   'rouge_2_precision': 0.16667,\n",
       "   'rouge_2_f_score': 0.20339,\n",
       "   'rouge_1_precision': 0.41096,\n",
       "   'rouge_1_recall': 0.6383,\n",
       "   'rouge_l_precision': 0.35616,\n",
       "   'rouge_l_f_score': 0.43333,\n",
       "   'js-2': -0.5423240214743403,\n",
       "   'mover_score': 0.34506496267446296,\n",
       "   'bert_recall_score': 0.46878311038017273,\n",
       "   'bert_precision_score': 0.3731093406677246,\n",
       "   'bert_f_score': 0.42146241664886475,\n",
       "   'litepyramid_recall': 0.4444444444444445}},\n",
       " 'bart_out.txt': {'system_summary': '<t> Drivers pulled over on Interstate 20 in Albilene , Texas , to pick up the cash . </t>  <t> Video shows motorists frantically grabbing the notes in between stopped vehicles . </t>  <t> Police have warned that if anyone is caught with cash that was inside the truck - they could land themselves behind bars . </t>  <t> Weatherford Police Department said all of the lost money had been picked up . </t>',\n",
       "  'scores': {'rouge_1_f_score': 0.5283,\n",
       "   'rouge_2_recall': 0.26087,\n",
       "   'rouge_l_recall': 0.55319,\n",
       "   'rouge_2_precision': 0.2069,\n",
       "   'rouge_2_f_score': 0.23077,\n",
       "   'rouge_1_precision': 0.47458,\n",
       "   'rouge_1_recall': 0.59574,\n",
       "   'rouge_l_precision': 0.44068,\n",
       "   'rouge_l_f_score': 0.49057,\n",
       "   'js-2': -0.5210677709620389,\n",
       "   'mover_score': 0.3818846996645494,\n",
       "   'bert_recall_score': 0.41098350286483765,\n",
       "   'bert_precision_score': 0.44780203700065613,\n",
       "   'bert_f_score': 0.43025580048561096,\n",
       "   'litepyramid_recall': 0.5555555555555556}},\n",
       " 'fast_abs_rl_out_rerank.txt': {'system_summary': \"<t> drivers pulled over on interstate 20 in albilene , texas . </t>  <t> video posted on facebook shows motorists frantically grabbing the notes in between stopped vehicles . </t>  <t> the passenger door of the truck somehow opened as it was moving causing a plastic bag with a ` substantial amount of money ' </t>  <t> police have warned that if anyone is caught with cash that was inside the truck . </t>\",\n",
       "  'scores': {'rouge_1_f_score': 0.52336,\n",
       "   'rouge_2_recall': 0.21739,\n",
       "   'rouge_l_recall': 0.53191,\n",
       "   'rouge_2_precision': 0.16949,\n",
       "   'rouge_2_f_score': 0.19047,\n",
       "   'rouge_1_precision': 0.46667,\n",
       "   'rouge_1_recall': 0.59574,\n",
       "   'rouge_l_precision': 0.41667,\n",
       "   'rouge_l_f_score': 0.46729,\n",
       "   'js-2': -0.5436921814320024,\n",
       "   'mover_score': 0.35064175323786095,\n",
       "   'bert_recall_score': 0.47306743264198303,\n",
       "   'bert_precision_score': 0.3187335133552551,\n",
       "   'bert_f_score': 0.39576953649520874,\n",
       "   'litepyramid_recall': 0.6666666666666666}},\n",
       " 't5_out_11B.txt': {'system_summary': \"<t> brinks armored truck door flew open on interstate 20 in albilene, texas . </t>  <t> plastic bag containing 'substantial amount of money' was blown out . </t>  <t> motorists pulled over on the side of the road to pick up the notes . </t>  <t> police have warned anyone caught with the cash will be prosecuted . </t>\",\n",
       "  'scores': {'rouge_1_f_score': 0.68085,\n",
       "   'rouge_2_recall': 0.3913,\n",
       "   'rouge_l_recall': 0.6383,\n",
       "   'rouge_2_precision': 0.3913,\n",
       "   'rouge_2_f_score': 0.3913,\n",
       "   'rouge_1_precision': 0.68085,\n",
       "   'rouge_1_recall': 0.68085,\n",
       "   'rouge_l_precision': 0.6383,\n",
       "   'rouge_l_f_score': 0.6383,\n",
       "   'js-2': -0.43951469777775853,\n",
       "   'mover_score': 0.45655249272623544,\n",
       "   'bert_recall_score': 0.5462653636932373,\n",
       "   'bert_precision_score': 0.5434766411781311,\n",
       "   'bert_f_score': 0.5456101894378662,\n",
       "   'litepyramid_recall': 0.5555555555555556}},\n",
       " 'presumm_out_abs.txt': {'system_summary': \"<t> drivers pulled over on interstate 20 in albilene , texas , got out of their cars and walked toward oncoming traffic to pick up the cash </t>  <t> a video posted on facebook shows motorists frantically grabbing the notes in between stopped vehicles , while others were forced to slow down and veer out of the way </t>  <t> the passenger door of the brinks armored truck somehow opened as it was moving causing a plastic bag with a ` substantial amount of money ' to be blown out </t>\",\n",
       "  'scores': {'rouge_1_f_score': 0.45669,\n",
       "   'rouge_2_recall': 0.23913,\n",
       "   'rouge_l_recall': 0.55319,\n",
       "   'rouge_2_precision': 0.13924,\n",
       "   'rouge_2_f_score': 0.176,\n",
       "   'rouge_1_precision': 0.3625,\n",
       "   'rouge_1_recall': 0.61702,\n",
       "   'rouge_l_precision': 0.325,\n",
       "   'rouge_l_f_score': 0.40945,\n",
       "   'js-2': -0.5607552485045904,\n",
       "   'mover_score': 0.2843163084103868,\n",
       "   'bert_recall_score': 0.4043631851673126,\n",
       "   'bert_precision_score': 0.19267895817756653,\n",
       "   'bert_f_score': 0.29752835631370544,\n",
       "   'litepyramid_recall': 0.6666666666666666}},\n",
       " 'bottom_up_out.txt': {'system_summary': '<t> drivers pulled over on interstate 20 in albilene , texas , got out of their cars and walked toward oncoming traffic to pick up the cash . </t> <t> a video posted on facebook shows motorists grabbing the notes in between stopped vehicles , while others were forced to slow down . </t> <t> weatherford police department said all of the lost money had been picked up by citizens . </t>',\n",
       "  'scores': {'rouge_1_f_score': 0.46729,\n",
       "   'rouge_2_recall': 0.19565,\n",
       "   'rouge_l_recall': 0.48936,\n",
       "   'rouge_2_precision': 0.15254,\n",
       "   'rouge_2_f_score': 0.17143,\n",
       "   'rouge_1_precision': 0.41667,\n",
       "   'rouge_1_recall': 0.53191,\n",
       "   'rouge_l_precision': 0.38333,\n",
       "   'rouge_l_f_score': 0.4299,\n",
       "   'js-2': -0.5637311887388416,\n",
       "   'mover_score': 0.33040091370063385,\n",
       "   'bert_recall_score': 0.42133525013923645,\n",
       "   'bert_precision_score': 0.34425121545791626,\n",
       "   'bert_f_score': 0.3835190534591675,\n",
       "   'litepyramid_recall': 0.4444444444444445}},\n",
       " 'unilm_out_v1.txt': {'system_summary': \"<t> Drivers pulled over on Interstate 20 in Albilene , Texas , to pick up cash . </t>  <t> Video posted on Facebook shows motorists frantically grabbing the notes . </t>  <t> Others were forced to slow down and veer out of the way . </t>  <t> The passenger door of the Brinks Armored Truck opened as it was moving . </t>  <t> It caused a plastic bag with a ` substantial amount of money ' to be blown </t>\",\n",
       "  'scores': {'rouge_1_f_score': 0.49541,\n",
       "   'rouge_2_recall': 0.19565,\n",
       "   'rouge_l_recall': 0.53191,\n",
       "   'rouge_2_precision': 0.14754,\n",
       "   'rouge_2_f_score': 0.16822,\n",
       "   'rouge_1_precision': 0.43548,\n",
       "   'rouge_1_recall': 0.57447,\n",
       "   'rouge_l_precision': 0.40323,\n",
       "   'rouge_l_f_score': 0.45872,\n",
       "   'js-2': -0.5586376813447967,\n",
       "   'mover_score': 0.3091727233285507,\n",
       "   'bert_recall_score': 0.36985984444618225,\n",
       "   'bert_precision_score': 0.25839704275131226,\n",
       "   'bert_f_score': 0.3146545886993408,\n",
       "   'litepyramid_recall': 0.6666666666666666}},\n",
       " 't5_out_base.txt': {'system_summary': \"<t> video shows drivers pulling over on interstate 20 in albilene, texas . </t>  <t> they got out of their cars and walked toward oncoming traffic to pick up cash . </t>  <t> passenger door of brinks armored truck somehow opened as it was moving . </t>  <t> plastic bag with 'substantial amount of money' was blown out of truck . </t>  <t> police have warned anyone caught with cash inside truck will be prosecuted . </t>\",\n",
       "  'scores': {'rouge_1_f_score': 0.51376,\n",
       "   'rouge_2_recall': 0.32609,\n",
       "   'rouge_l_recall': 0.55319,\n",
       "   'rouge_2_precision': 0.2459,\n",
       "   'rouge_2_f_score': 0.28037,\n",
       "   'rouge_1_precision': 0.45161,\n",
       "   'rouge_1_recall': 0.59574,\n",
       "   'rouge_l_precision': 0.41935,\n",
       "   'rouge_l_f_score': 0.47706,\n",
       "   'js-2': -0.4900911191446984,\n",
       "   'mover_score': 0.33782157212016584,\n",
       "   'bert_recall_score': 0.48766493797302246,\n",
       "   'bert_precision_score': 0.3647346794605255,\n",
       "   'bert_f_score': 0.4264310598373413,\n",
       "   'litepyramid_recall': 0.7777777777777778}},\n",
       " 'semsim_out.txt': {'system_summary': \"<t> Drivers pulled over on Interstate 20 in Albilene , Texas , to pick up the cash on the side of the road . </t>  <t> Passenger door of Brinks Armored Truck somehow opened as it was moving . </t>  <t> Plastic bag with a ' substantial amount of money ' blew out causing traffic to slow down . </t>  <t> Police have warned that anyone caught with the money will be prosecuted \\xa0 . </t>\",\n",
       "  'scores': {'rouge_1_f_score': 0.60377,\n",
       "   'rouge_2_recall': 0.43478,\n",
       "   'rouge_l_recall': 0.68085,\n",
       "   'rouge_2_precision': 0.34483,\n",
       "   'rouge_2_f_score': 0.38462,\n",
       "   'rouge_1_precision': 0.54237,\n",
       "   'rouge_1_recall': 0.68085,\n",
       "   'rouge_l_precision': 0.54237,\n",
       "   'rouge_l_f_score': 0.60377,\n",
       "   'js-2': -0.42822216924530365,\n",
       "   'mover_score': 0.3935482437665804,\n",
       "   'bert_recall_score': 0.518051266670227,\n",
       "   'bert_precision_score': 0.4492003917694092,\n",
       "   'bert_f_score': 0.48424792289733887,\n",
       "   'litepyramid_recall': 0.7777777777777778}}}"
      ]
     },
     "execution_count": 5,
     "metadata": {},
     "output_type": "execute_result"
    }
   ],
   "source": [
    "sd[7823]['system_summaries']"
   ]
  },
  {
   "cell_type": "markdown",
   "metadata": {
    "pycharm": {
     "name": "#%% md\n"
    }
   },
   "source": [
    "### print score ranges"
   ]
  },
  {
   "cell_type": "code",
   "execution_count": 6,
   "metadata": {
    "pycharm": {
     "name": "#%%\n"
    },
    "scrolled": true
   },
   "outputs": [
    {
     "name": "stdout",
     "output_type": "stream",
     "text": [
      "                            min    25-perc     median    75-perc        max       mean\n",
      "--------------------  ---------  ---------  ---------  ---------  ---------  ---------\n",
      "bert_f_score          -0.204646   0.183533   0.273075   0.361779   0.777841   0.272246\n",
      "bert_precision_score  -0.236365   0.155290   0.240984   0.349462   0.837540   0.252681\n",
      "bert_recall_score     -0.298603   0.191222   0.293298   0.390441   0.843621   0.290956\n",
      "js-2                  -0.693147  -0.611212  -0.561098  -0.501344  -0.202109  -0.549249\n",
      "litepyramid_recall     0.000000   0.250000   0.428571   0.600000   1.000000   0.428001\n",
      "mover_score            0.008218   0.222853   0.275872   0.337848   0.720593   0.283519\n",
      "rouge_1_f_score        0.123460   0.360270   0.431370   0.508147   0.857140   0.436647\n",
      "rouge_1_precision      0.101690   0.328120   0.400000   0.491928   0.941180   0.415695\n",
      "rouge_1_recall         0.097560   0.381365   0.474790   0.583330   0.940000   0.483694\n",
      "rouge_2_f_score        0.000000   0.114635   0.180255   0.261038   0.699030   0.198408\n",
      "rouge_2_precision      0.000000   0.105860   0.166670   0.245610   0.875000   0.189181\n",
      "rouge_2_recall         0.000000   0.125000   0.200000   0.288460   0.734690   0.219793\n",
      "rouge_l_f_score        0.074070   0.313720   0.392520   0.472513   0.857140   0.399013\n",
      "rouge_l_precision      0.093750   0.290320   0.362570   0.461540   0.941180   0.379973\n",
      "rouge_l_recall         0.061220   0.338980   0.431370   0.536703   0.940000   0.441971\n"
     ]
    }
   ],
   "source": [
    "utils.print_score_ranges(sd)"
   ]
  },
  {
   "cell_type": "markdown",
   "metadata": {
    "pycharm": {
     "name": "#%% md\n"
    }
   },
   "source": [
    "## how many summaries per document?"
   ]
  },
  {
   "cell_type": "code",
   "execution_count": 7,
   "metadata": {
    "pycharm": {
     "name": "#%%\n"
    }
   },
   "outputs": [
    {
     "name": "stdout",
     "output_type": "stream",
     "text": [
      "15.0\n"
     ]
    }
   ],
   "source": [
    "print(np.mean([len(d['system_summaries']) for d in sd.values()]))"
   ]
  },
  {
   "cell_type": "code",
   "execution_count": 8,
   "metadata": {},
   "outputs": [
    {
     "data": {
      "text/plain": [
       "100"
      ]
     },
     "execution_count": 8,
     "metadata": {},
     "output_type": "execute_result"
    }
   ],
   "source": [
    "len(sd)"
   ]
  },
  {
   "cell_type": "markdown",
   "metadata": {
    "pycharm": {
     "name": "#%% md\n"
    }
   },
   "source": [
    "## what metrics found for each document?"
   ]
  },
  {
   "cell_type": "code",
   "execution_count": 9,
   "metadata": {
    "pycharm": {
     "name": "#%%\n"
    }
   },
   "outputs": [
    {
     "data": {
      "text/plain": [
       "['bert_f_score',\n",
       " 'bert_precision_score',\n",
       " 'bert_recall_score',\n",
       " 'js-2',\n",
       " 'litepyramid_recall',\n",
       " 'mover_score',\n",
       " 'rouge_1_f_score',\n",
       " 'rouge_1_precision',\n",
       " 'rouge_1_recall',\n",
       " 'rouge_2_f_score',\n",
       " 'rouge_2_precision',\n",
       " 'rouge_2_recall',\n",
       " 'rouge_l_f_score',\n",
       " 'rouge_l_precision',\n",
       " 'rouge_l_recall']"
      ]
     },
     "execution_count": 9,
     "metadata": {},
     "output_type": "execute_result"
    }
   ],
   "source": [
    "mlist = utils.get_metrics_list(sd)\n",
    "mlist"
   ]
  },
  {
   "cell_type": "markdown",
   "metadata": {},
   "source": [
    "## Filter out some metrics if reqd"
   ]
  },
  {
   "cell_type": "code",
   "execution_count": 10,
   "metadata": {},
   "outputs": [],
   "source": [
    "mlist = ['bert_recall_score', 'mover_score', 'rouge_1_recall', 'rouge_2_recall', 'rouge_l_recall', 'js-2', \n",
    "         'litepyramid_recall']"
   ]
  },
  {
   "cell_type": "markdown",
   "metadata": {},
   "source": [
    "# Write to william's test format - Exp I\n",
    "The below lines writes our data in the appropriate format for william's test. To run william's test see https://github.com/ygraham/nlp-williams"
   ]
  },
  {
   "cell_type": "code",
   "execution_count": 11,
   "metadata": {},
   "outputs": [],
   "source": [
    "W_DATAPATH = \"../williams_test_data/\"\n",
    "human_scores_fp = W_DATAPATH + 'abs_human_scores_100_docs_15_sys_clean.tsv'\n",
    "metric_scores_fp = W_DATAPATH + 'abs_metric_scores_100_docs_15_sys_clean.tsv'"
   ]
  },
  {
   "cell_type": "code",
   "execution_count": 12,
   "metadata": {},
   "outputs": [],
   "source": [
    "header = 'METRIC\\tLP\\tTESTSET\\tSYSTEM\\tSCORE'"
   ]
  },
  {
   "cell_type": "code",
   "execution_count": 13,
   "metadata": {},
   "outputs": [
    {
     "data": {
      "text/plain": [
       "15"
      ]
     },
     "execution_count": 13,
     "metadata": {},
     "output_type": "execute_result"
    }
   ],
   "source": [
    "systems = utils.get_system_level_scores(sd, mlist, agg='mean')\n",
    "len(systems)"
   ]
  },
  {
   "cell_type": "code",
   "execution_count": 14,
   "metadata": {},
   "outputs": [
    {
     "data": {
      "text/plain": [
       "defaultdict(<function utils.get_system_level_scores.<locals>.<lambda>()>,\n",
       "            {'presumm_out_trans_abs.txt': defaultdict(list,\n",
       "                         {'bert_recall_score': 0.23639445294509642,\n",
       "                          'mover_score': 0.2514619151726886,\n",
       "                          'rouge_1_recall': 0.4734307,\n",
       "                          'rouge_2_recall': 0.19209669999999998,\n",
       "                          'rouge_l_recall': 0.43200049999999995,\n",
       "                          'js-2': -0.5748483871399386,\n",
       "                          'litepyramid_recall': 0.37413331113331116}),\n",
       "             'two_stage_rl_out.txt': defaultdict(list,\n",
       "                         {'bert_recall_score': 0.302131678191945,\n",
       "                          'mover_score': 0.28243861098086226,\n",
       "                          'rouge_1_recall': 0.4714949,\n",
       "                          'rouge_2_recall': 0.219752,\n",
       "                          'rouge_l_recall': 0.44207499999999994,\n",
       "                          'js-2': -0.5486914060570224,\n",
       "                          'litepyramid_recall': 0.40588856976356974}),\n",
       "             'unilm_out_v2.txt': defaultdict(list,\n",
       "                         {'bert_recall_score': 0.23502746691927315,\n",
       "                          'mover_score': 0.3039480667338662,\n",
       "                          'rouge_1_recall': 0.47826050000000003,\n",
       "                          'rouge_2_recall': 0.22940949999999996,\n",
       "                          'rouge_l_recall': 0.444276,\n",
       "                          'js-2': -0.5358155145234947,\n",
       "                          'litepyramid_recall': 0.4565360472860472}),\n",
       "             't5_out_large.txt': defaultdict(list,\n",
       "                         {'bert_recall_score': 0.3154942336399108,\n",
       "                          'mover_score': 0.3023619977881443,\n",
       "                          'rouge_1_recall': 0.4535055,\n",
       "                          'rouge_2_recall': 0.2180062,\n",
       "                          'rouge_l_recall': 0.4211363000000001,\n",
       "                          'js-2': -0.5367864402784039,\n",
       "                          'litepyramid_recall': 0.4348651903651904}),\n",
       "             'presumm_out_ext_abs.txt': defaultdict(list,\n",
       "                         {'bert_recall_score': 0.26494738976471127,\n",
       "                          'mover_score': 0.2787337818883831,\n",
       "                          'rouge_1_recall': 0.4879682999999999,\n",
       "                          'rouge_2_recall': 0.21756929999999997,\n",
       "                          'rouge_l_recall': 0.45114269999999995,\n",
       "                          'js-2': -0.5542823297053873,\n",
       "                          'litepyramid_recall': 0.4234427100677101}),\n",
       "             'ptr_generator_out_pointer_gen_cov.txt': defaultdict(list,\n",
       "                         {'bert_recall_score': 0.2383607214433141,\n",
       "                          'mover_score': 0.24940027068612333,\n",
       "                          'rouge_1_recall': 0.4340573,\n",
       "                          'rouge_2_recall': 0.17974369999999998,\n",
       "                          'rouge_l_recall': 0.2973169,\n",
       "                          'js-2': -0.5735683069190618,\n",
       "                          'litepyramid_recall': 0.355099802974803}),\n",
       "             'neusumm_out.txt': defaultdict(list,\n",
       "                         {'bert_recall_score': 0.33228876680135727,\n",
       "                          'mover_score': 0.270426881019545,\n",
       "                          'rouge_1_recall': 0.5384382999999999,\n",
       "                          'rouge_2_recall': 0.24043019999999998,\n",
       "                          'rouge_l_recall': 0.49753189999999997,\n",
       "                          'js-2': -0.550384978414598,\n",
       "                          'litepyramid_recall': 0.4744163752913753}),\n",
       "             'bart_out.txt': defaultdict(list,\n",
       "                         {'bert_recall_score': 0.33977623015642167,\n",
       "                          'mover_score': 0.30725228342518934,\n",
       "                          'rouge_1_recall': 0.5311779000000001,\n",
       "                          'rouge_2_recall': 0.25133039999999995,\n",
       "                          'rouge_l_recall': 0.4896709000000001,\n",
       "                          'js-2': -0.5340693291543637,\n",
       "                          'litepyramid_recall': 0.4834948384948385}),\n",
       "             'fast_abs_rl_out_rerank.txt': defaultdict(list,\n",
       "                         {'bert_recall_score': 0.26244280544575305,\n",
       "                          'mover_score': 0.25758270002548506,\n",
       "                          'rouge_1_recall': 0.48908129999999994,\n",
       "                          'rouge_2_recall': 0.21417349999999996,\n",
       "                          'rouge_l_recall': 0.4590929000000001,\n",
       "                          'js-2': -0.555404299441693,\n",
       "                          'litepyramid_recall': 0.39896986346986346}),\n",
       "             't5_out_11B.txt': defaultdict(list,\n",
       "                         {'bert_recall_score': 0.33260820819530634,\n",
       "                          'mover_score': 0.31011758603195544,\n",
       "                          'rouge_1_recall': 0.4832241,\n",
       "                          'rouge_2_recall': 0.23028899999999997,\n",
       "                          'rouge_l_recall': 0.44830420000000004,\n",
       "                          'js-2': -0.5340186030474151,\n",
       "                          'litepyramid_recall': 0.46166207403707404}),\n",
       "             'presumm_out_abs.txt': defaultdict(list,\n",
       "                         {'bert_recall_score': 0.2643683717853855,\n",
       "                          'mover_score': 0.27695973251014566,\n",
       "                          'rouge_1_recall': 0.4728592,\n",
       "                          'rouge_2_recall': 0.21543879999999999,\n",
       "                          'rouge_l_recall': 0.4388201999999999,\n",
       "                          'js-2': -0.5493325680975389,\n",
       "                          'litepyramid_recall': 0.40577813852813854}),\n",
       "             'bottom_up_out.txt': defaultdict(list,\n",
       "                         {'bert_recall_score': 0.2490344987437129,\n",
       "                          'mover_score': 0.2641651537925332,\n",
       "                          'rouge_1_recall': 0.4083859,\n",
       "                          'rouge_2_recall': 0.1700986,\n",
       "                          'rouge_l_recall': 0.3808249,\n",
       "                          'js-2': -0.5706624753410129,\n",
       "                          'litepyramid_recall': 0.31726934176934174}),\n",
       "             'unilm_out_v1.txt': defaultdict(list,\n",
       "                         {'bert_recall_score': 0.3218906713556498,\n",
       "                          'mover_score': 0.29507906194895595,\n",
       "                          'rouge_1_recall': 0.5063359999999999,\n",
       "                          'rouge_2_recall': 0.2301511,\n",
       "                          'rouge_l_recall': 0.47221690000000005,\n",
       "                          'js-2': -0.5466963449897193,\n",
       "                          'litepyramid_recall': 0.45090105727605734}),\n",
       "             't5_out_base.txt': defaultdict(list,\n",
       "                         {'bert_recall_score': 0.29902413116768,\n",
       "                          'mover_score': 0.28810496949541503,\n",
       "                          'rouge_1_recall': 0.45214870000000007,\n",
       "                          'rouge_2_recall': 0.2089979,\n",
       "                          'rouge_l_recall': 0.4203489,\n",
       "                          'js-2': -0.5474474889346199,\n",
       "                          'litepyramid_recall': 0.41573380785880787}),\n",
       "             'semsim_out.txt': defaultdict(list,\n",
       "                         {'bert_recall_score': 0.3705558986403048,\n",
       "                          'mover_score': 0.3147543776982281,\n",
       "                          'rouge_1_recall': 0.5750471,\n",
       "                          'rouge_2_recall': 0.2794044,\n",
       "                          'rouge_l_recall': 0.5348096999999999,\n",
       "                          'js-2': -0.5267222427132099,\n",
       "                          'litepyramid_recall': 0.561820942945943})})"
      ]
     },
     "execution_count": 14,
     "metadata": {},
     "output_type": "execute_result"
    }
   ],
   "source": [
    "systems"
   ]
  },
  {
   "cell_type": "code",
   "execution_count": 15,
   "metadata": {},
   "outputs": [
    {
     "data": {
      "text/plain": [
       "31"
      ]
     },
     "execution_count": 15,
     "metadata": {},
     "output_type": "execute_result"
    }
   ],
   "source": [
    "with open(human_scores_fp, 'w') as f:\n",
    "    f.write(header + '\\n')\n",
    "    for sys_name in systems:\n",
    "        _ = f.write(f\"HUMAN\\ten-en\\tcnndm\\t{sys_name}\\t{systems[sys_name]['litepyramid_recall']}\\n\")"
   ]
  },
  {
   "cell_type": "code",
   "execution_count": 16,
   "metadata": {},
   "outputs": [
    {
     "data": {
      "text/plain": [
       "31"
      ]
     },
     "execution_count": 16,
     "metadata": {},
     "output_type": "execute_result"
    }
   ],
   "source": [
    "with open(metric_scores_fp, 'w') as f:\n",
    "    f.write(header + '\\n')\n",
    "    for m in mlist:\n",
    "        if m == 'litepyramid_recall':\n",
    "            continue\n",
    "        for sys_name in systems:\n",
    "            _ = f.write(f\"{m}\\ten-en\\tcnndm\\t{sys_name}\\t{systems[sys_name][m]}\\n\")"
   ]
  },
  {
   "cell_type": "markdown",
   "metadata": {},
   "source": [
    "# System level analysis - Exp II"
   ]
  },
  {
   "cell_type": "code",
   "execution_count": 17,
   "metadata": {
    "scrolled": false
   },
   "outputs": [
    {
     "data": {
      "text/plain": [
       "<matplotlib.legend.Legend at 0x7fdb804f4c18>"
      ]
     },
     "execution_count": 17,
     "metadata": {},
     "output_type": "execute_result"
    },
    {
     "data": {
      "text/plain": [
       "Text(0.5, 0, 'top k systems according to litepyramid_recall')"
      ]
     },
     "execution_count": 17,
     "metadata": {},
     "output_type": "execute_result"
    },
    {
     "data": {
      "text/plain": [
       "Text(0, 0.5, 'kendalltau correlation between different metric pairs')"
      ]
     },
     "execution_count": 17,
     "metadata": {},
     "output_type": "execute_result"
    },
    {
     "data": {
      "text/plain": [
       "(-1, 1)"
      ]
     },
     "execution_count": 17,
     "metadata": {},
     "output_type": "execute_result"
    },
    {
     "data": {
      "image/png": "[encoded data removed]",
      "text/plain": [
       "<Figure size 432x288 with 1 Axes>"
      ]
     },
     "metadata": {
      "needs_background": "light"
     },
     "output_type": "display_data"
    }
   ],
   "source": [
    "# plot k vs disagreements\n",
    "kvalues = [15, 14, 12, 10, 8, 6, 4]\n",
    "all_pairs = [('litepyramid_recall', m) for m in mlist if m != 'litepyramid_recall']\n",
    "systems = utils.get_system_level_scores(sd, mlist, agg='mean')\n",
    "sorting_metric = 'litepyramid_recall'\n",
    "correlation_method = 'kendalltau'\n",
    "\n",
    "y = ddict(list)\n",
    "for k in kvalues:\n",
    "    top_ksystems = utils.get_topk(systems, k, metric=sorting_metric)\n",
    "    corr, pval = utils.get_correlation(top_ksystems, metric_pairs=all_pairs, method=correlation_method)\n",
    "    for key in corr:\n",
    "        y[key].append(corr[key])\n",
    "        \n",
    "data = {\n",
    "    'x': kvalues,\n",
    "    **y,\n",
    "}\n",
    "labels = list(y.keys())\n",
    "\n",
    "ax = plt.axes([0, 0, 2, 2])\n",
    "lines = []\n",
    "for label in labels:\n",
    "    lines.append(ax.plot('x', label, data=data, linewidth=6.0, marker='o',\n",
    "                         linestyle=':' if 'pyramid' in label else None))\n",
    "plt.gca().invert_xaxis()\n",
    "ax.legend(prop={'size': 15})\n",
    "ax.set_xlabel(f\"top k systems according to {sorting_metric}\", fontsize=25)\n",
    "ax.set_ylabel(f\"{correlation_method} correlation between different metric pairs\", fontsize=25)\n",
    "plt.ylim(-1, 1)"
   ]
  },
  {
   "cell_type": "markdown",
   "metadata": {},
   "source": [
    "# Bootstrap Resampling - Exp III"
   ]
  },
  {
   "cell_type": "code",
   "execution_count": 18,
   "metadata": {},
   "outputs": [],
   "source": [
    "systems = utils.get_system_level_scores(sd, mlist, agg='none')\n",
    "sys_names = list(systems.keys())\n",
    "all_system_pairs = list(itertools.combinations(sys_names, 2))"
   ]
  },
  {
   "cell_type": "code",
   "execution_count": 19,
   "metadata": {},
   "outputs": [],
   "source": [
    "def get_predictions_br(system_pairs, systems, metric):\n",
    "    preds = {}\n",
    "    for pair in system_pairs:\n",
    "        sys1 = systems[pair[0]][metric]\n",
    "        sys2 = systems[pair[1]][metric]\n",
    "        n = len(sys1)\n",
    "        points = [i for i in range(0, n)]\n",
    "        is_better = 0\n",
    "        for i in range(1000):\n",
    "            sample = choices(points, k=n)\n",
    "            sys1_ = [sys1[p] for p in sample]\n",
    "            sys2_ = [sys2[p] for p in sample]\n",
    "            if np.mean(sys1_) > np.mean(sys2_):\n",
    "                is_better += 1\n",
    "                \n",
    "        if is_better/1000 >= 0.95:\n",
    "            preds[pair] = 0 # pair[0] is better\n",
    "        elif is_better/1000 <= 0.05:\n",
    "            preds[pair] = 1 # pair[1] is better\n",
    "        else:\n",
    "            preds[pair] = 2 # can't say\n",
    "    return preds"
   ]
  },
  {
   "cell_type": "code",
   "execution_count": 20,
   "metadata": {},
   "outputs": [],
   "source": [
    "human_judgements = get_predictions_br(all_system_pairs, systems, 'litepyramid_recall')"
   ]
  },
  {
   "cell_type": "code",
   "execution_count": 21,
   "metadata": {},
   "outputs": [
    {
     "name": "stdout",
     "output_type": "stream",
     "text": [
      "[[16  2  7]\n",
      " [ 1 39  3]\n",
      " [ 6 15 16]]\n",
      "bert_recall_score 0.6603724318010031\n",
      "[[18  2  5]\n",
      " [ 1 35  7]\n",
      " [10 10 17]]\n",
      "mover_score 0.6587782587782587\n",
      "[[21  0  4]\n",
      " [ 0 33 10]\n",
      " [10  8 19]]\n",
      "rouge_1_recall 0.6916326530612246\n",
      "[[21  0  4]\n",
      " [ 0 36  7]\n",
      " [ 4  4 29]]\n",
      "rouge_2_recall 0.8206793779943522\n",
      "[[21  1  3]\n",
      " [ 0 34  9]\n",
      " [ 9  9 19]]\n",
      "rouge_l_recall 0.6988245245851735\n",
      "[[20  0  5]\n",
      " [ 1 33  9]\n",
      " [ 8  6 23]]\n",
      "js-2 0.7250311868198047\n",
      "[[24  0  1]\n",
      " [ 0 41  2]\n",
      " [ 0  1 36]]\n",
      "litepyramid_recall 0.9621407660808685\n"
     ]
    }
   ],
   "source": [
    "y_true = [human_judgements[pair] for pair in all_system_pairs]\n",
    "metrics = mlist\n",
    "for metric in metrics:\n",
    "    metric_predictions = get_predictions_br(all_system_pairs, systems, metric)\n",
    "    \n",
    "    y_pred = [metric_predictions[pair] for pair in all_system_pairs]\n",
    "#     print('confusion metrics ', metric)\n",
    "    print(confusion_matrix(y_true, y_pred))\n",
    "    print(metric, f1_score(y_true, y_pred, average='weighted'))"
   ]
  },
  {
   "cell_type": "markdown",
   "metadata": {},
   "source": [
    "# Summary level analysis - Exp IV"
   ]
  },
  {
   "cell_type": "code",
   "execution_count": 22,
   "metadata": {},
   "outputs": [],
   "source": [
    "np.set_printoptions(precision=4)"
   ]
  },
  {
   "cell_type": "code",
   "execution_count": 23,
   "metadata": {},
   "outputs": [
    {
     "name": "stdout",
     "output_type": "stream",
     "text": [
      "['bert_recall_score', 'mover_score', 'rouge_1_recall', 'rouge_2_recall', 'rouge_l_recall', 'js-2', 'litepyramid_recall']\n",
      "[[0.     0.5745 0.6153 0.6334 0.6067 0.5462 0.5784]]\n",
      "\n",
      "[[0.     0.     0.5488 0.5985 0.5539 0.6255 0.5553]]\n",
      "\n",
      "[[0.     0.     0.     0.6882 0.8382 0.5659 0.6247]]\n",
      "\n",
      "[[0.     0.     0.     0.     0.6888 0.7548 0.608 ]]\n",
      "\n",
      "[[0.     0.     0.     0.     0.     0.5678 0.6003]]\n",
      "\n",
      "[[0.     0.     0.     0.     0.     0.     0.5575]]\n",
      "\n",
      "[[0. 0. 0. 0. 0. 0. 0.]]\n",
      "\n",
      "total 512/2100.0 = 24.38095238095238% values ignored\n"
     ]
    },
    {
     "data": {
      "text/plain": [
       "[0.5784123792845655,\n",
       " 0.5552767596654832,\n",
       " 0.6246998507411019,\n",
       " 0.6079667192345886,\n",
       " 0.6002859634413781,\n",
       " 0.5574888346248479]"
      ]
     },
     "execution_count": 23,
     "metadata": {},
     "output_type": "execute_result"
    }
   ],
   "source": [
    "metrics = mlist\n",
    "utils.print_ktau_matrix(metrics, percentile=[(0, 100)], sd=sd, cutoff_metric='litepyramid_recall', y_type='ktau')"
   ]
  },
  {
   "cell_type": "code",
   "execution_count": null,
   "metadata": {},
   "outputs": [],
   "source": []
  }
 ],
 "metadata": {
  "kernelspec": {
   "display_name": "Python 3",
   "language": "python",
   "name": "python3"
  },
  "language_info": {
   "codemirror_mode": {
    "name": "ipython",
    "version": 3
   },
   "file_extension": ".py",
   "mimetype": "text/x-python",
   "name": "python",
   "nbconvert_exporter": "python",
   "pygments_lexer": "ipython3",
   "version": "3.6.9"
  }
 },
 "nbformat": 4,
 "nbformat_minor": 4
}
